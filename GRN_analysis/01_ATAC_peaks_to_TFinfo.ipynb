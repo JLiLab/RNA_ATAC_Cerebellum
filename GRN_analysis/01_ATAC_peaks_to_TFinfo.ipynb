{
 "cells": [
  {
   "cell_type": "markdown",
   "metadata": {},
   "source": [
    "# 0. Import libraries"
   ]
  },
  {
   "cell_type": "code",
   "execution_count": 1,
   "metadata": {},
   "outputs": [
    {
     "name": "stderr",
     "output_type": "stream",
     "text": [
      "Missing colon in file '/Users/jamesli/.matplotlib/matplotlibrc', line 1 ('TkAgg')\n"
     ]
    }
   ],
   "source": [
    "import pandas as pd\n",
    "import numpy as np\n",
    "import matplotlib.pyplot as plt\n",
    "\n",
    "import seaborn as sns\n",
    "\n",
    "import os, sys, shutil, importlib, glob\n",
    "from tqdm.notebook import tqdm"
   ]
  },
  {
   "cell_type": "code",
   "execution_count": 2,
   "metadata": {},
   "outputs": [],
   "source": [
    "from celloracle import motif_analysis as ma\n",
    "from celloracle.utility import save_as_pickled_object"
   ]
  },
  {
   "cell_type": "code",
   "execution_count": 3,
   "metadata": {},
   "outputs": [],
   "source": [
    "%config InlineBackend.figure_format = 'retina'\n",
    "%matplotlib inline\n",
    "\n",
    "plt.rcParams['figure.figsize'] = (15,7)\n",
    "plt.rcParams[\"savefig.dpi\"] = 600"
   ]
  },
  {
   "cell_type": "markdown",
   "metadata": {},
   "source": [
    "# 1. Rerefence genome data preparation\n",
    "## 1.1. Check reference genome installation\n",
    "\n",
    "Celloracle uses genomepy to get DNA sequence data. Before starting celloracle analysis, we need to make sure that the reference genome is correctly installed in your computational environment. If not, please install reference genome."
   ]
  },
  {
   "cell_type": "code",
   "execution_count": 4,
   "metadata": {},
   "outputs": [
    {
     "name": "stdout",
     "output_type": "stream",
     "text": [
      "mm10 installation:  True\n"
     ]
    }
   ],
   "source": [
    "# PLEASE make sure that you are setting correct ref genome.\n",
    "ref_genome = \"mm10\"\n",
    "\n",
    "genome_installation = ma.is_genome_installed(ref_genome=ref_genome)\n",
    "print(ref_genome, \"installation: \", genome_installation)"
   ]
  },
  {
   "cell_type": "code",
   "execution_count": 5,
   "metadata": {},
   "outputs": [],
   "source": [
    "#import genomepy\n",
    "#genomepy.install_genome(\"mm10\", \"UCSC\")"
   ]
  },
  {
   "cell_type": "markdown",
   "metadata": {},
   "source": [
    "## 1.2. Install reference genome (if refgenome is not installed)"
   ]
  },
  {
   "cell_type": "code",
   "execution_count": 6,
   "metadata": {},
   "outputs": [
    {
     "name": "stdout",
     "output_type": "stream",
     "text": [
      "mm10 is installed.\n"
     ]
    }
   ],
   "source": [
    "if not genome_installation:\n",
    "    import genomepy\n",
    "    genomepy.install_genome(ref_genome, \"UCSC\")\n",
    "else:\n",
    "    print(ref_genome, \"is installed.\")"
   ]
  },
  {
   "cell_type": "markdown",
   "metadata": {},
   "source": [
    "# 2. Load data\n",
    "\n",
    "## 2.1. Load processed peak data \n",
    "The peak2gene link pairs identified by ArchR was processed with \"peak2gene_cellOracle.R\" and saved as a Parquet file."
   ]
  },
  {
   "cell_type": "code",
   "execution_count": 8,
   "metadata": {
    "scrolled": true
   },
   "outputs": [
    {
     "data": {
      "text/html": [
       "<div>\n",
       "<style scoped>\n",
       "    .dataframe tbody tr th:only-of-type {\n",
       "        vertical-align: middle;\n",
       "    }\n",
       "\n",
       "    .dataframe tbody tr th {\n",
       "        vertical-align: top;\n",
       "    }\n",
       "\n",
       "    .dataframe thead th {\n",
       "        text-align: right;\n",
       "    }\n",
       "</style>\n",
       "<table border=\"1\" class=\"dataframe\">\n",
       "  <thead>\n",
       "    <tr style=\"text-align: right;\">\n",
       "      <th></th>\n",
       "      <th>peak_id</th>\n",
       "      <th>gene_short_name</th>\n",
       "    </tr>\n",
       "  </thead>\n",
       "  <tbody>\n",
       "    <tr>\n",
       "      <th>0</th>\n",
       "      <td>chr11_70203890_70204390</td>\n",
       "      <td>Acap1</td>\n",
       "    </tr>\n",
       "    <tr>\n",
       "      <th>1</th>\n",
       "      <td>chr11_70203890_70204390</td>\n",
       "      <td>Alox12</td>\n",
       "    </tr>\n",
       "    <tr>\n",
       "      <th>2</th>\n",
       "      <td>chr11_83284456_83284956</td>\n",
       "      <td>Slfn5</td>\n",
       "    </tr>\n",
       "    <tr>\n",
       "      <th>3</th>\n",
       "      <td>chr3_20027269_20027769</td>\n",
       "      <td>Trim55</td>\n",
       "    </tr>\n",
       "    <tr>\n",
       "      <th>4</th>\n",
       "      <td>chr11_83649364_83649864</td>\n",
       "      <td>Ccl4</td>\n",
       "    </tr>\n",
       "  </tbody>\n",
       "</table>\n",
       "</div>"
      ],
      "text/plain": [
       "                   peak_id gene_short_name\n",
       "0  chr11_70203890_70204390           Acap1\n",
       "1  chr11_70203890_70204390          Alox12\n",
       "2  chr11_83284456_83284956           Slfn5\n",
       "3   chr3_20027269_20027769          Trim55\n",
       "4  chr11_83649364_83649864            Ccl4"
      ]
     },
     "execution_count": 8,
     "metadata": {},
     "output_type": "execute_result"
    }
   ],
   "source": [
    "# Load annotated peak data.\n",
    "peaks = pd.read_parquet(\"peak_file.parquet\")\n",
    "peaks.head()"
   ]
  },
  {
   "cell_type": "markdown",
   "metadata": {},
   "source": [
    "## 2.1. Check data"
   ]
  },
  {
   "cell_type": "code",
   "execution_count": 9,
   "metadata": {},
   "outputs": [],
   "source": [
    "# Define function for quality check\n",
    "def decompose_chrstr(peak_str):\n",
    "    \"\"\"\n",
    "    Args:\n",
    "        peak_str (str): peak_str. e.g. 'chr1_3094484_3095479'\n",
    "        \n",
    "    Returns:\n",
    "        tuple: chromosome name, start position, end position\n",
    "    \"\"\"\n",
    "    \n",
    "    *chr_, start, end = peak_str.split(\"_\")\n",
    "    chr_ = \"_\".join(chr_)\n",
    "    return chr_, start, end\n",
    "\n",
    "from genomepy import Genome\n",
    "\n",
    "def check_peak_foamat(peaks_df, ref_genome):\n",
    "    \"\"\"\n",
    "    Check peak fomat. \n",
    "     (1) Check chromosome name. \n",
    "     (2) Check peak size (length) and remove sort DNAs (<5bp)\n",
    "    \n",
    "    \"\"\"\n",
    "    \n",
    "    df = peaks_df.copy()\n",
    "    \n",
    "    n_peaks_before = df.shape[0]\n",
    "    \n",
    "    # Decompose peaks and make df\n",
    "    decomposed = [decompose_chrstr(peak_str) for peak_str in df[\"peak_id\"]]\n",
    "    df_decomposed = pd.DataFrame(np.array(decomposed))\n",
    "    df_decomposed.columns = [\"chr\", \"start\", \"end\"]\n",
    "    df_decomposed[\"start\"] = df_decomposed[\"start\"].astype(np.int)\n",
    "    df_decomposed[\"end\"] = df_decomposed[\"end\"].astype(np.int)\n",
    "    \n",
    "    # Load genome data\n",
    "    genome_data = Genome(ref_genome)\n",
    "    all_chr_list = list(genome_data.keys())\n",
    "    \n",
    "    \n",
    "    # DNA length check\n",
    "    lengths = np.abs(df_decomposed[\"end\"] - df_decomposed[\"start\"])\n",
    "    \n",
    "    \n",
    "    # Filter peaks with invalid chromosome name\n",
    "    n_threshold = 5\n",
    "    df = df[(lengths >= n_threshold) & df_decomposed.chr.isin(all_chr_list)]\n",
    "    \n",
    "    # DNA length check\n",
    "    lengths = np.abs(df_decomposed[\"end\"] - df_decomposed[\"start\"])\n",
    "    \n",
    "    # Data counting\n",
    "    n_invalid_length = len(lengths[lengths < n_threshold])\n",
    "    n_peaks_invalid_chr = n_peaks_before - df_decomposed.chr.isin(all_chr_list).sum()\n",
    "    n_peaks_after = df.shape[0]\n",
    "    \n",
    "    #\n",
    "    print(\"Peaks before filtering: \", n_peaks_before)\n",
    "    print(\"Peaks with invalid chr_name: \", n_peaks_invalid_chr)\n",
    "    print(\"Peaks with invalid length: \", n_invalid_length)\n",
    "    print(\"Peaks after filtering: \", n_peaks_after)\n",
    "    \n",
    "    return df"
   ]
  },
  {
   "cell_type": "code",
   "execution_count": 10,
   "metadata": {
    "scrolled": false
   },
   "outputs": [
    {
     "name": "stdout",
     "output_type": "stream",
     "text": [
      "Peaks before filtering:  197299\n",
      "Peaks with invalid chr_name:  0\n",
      "Peaks with invalid length:  0\n",
      "Peaks after filtering:  197299\n"
     ]
    }
   ],
   "source": [
    "peaks = check_peak_foamat(peaks, ref_genome)"
   ]
  },
  {
   "cell_type": "markdown",
   "metadata": {},
   "source": [
    "## 2.2 Load motif"
   ]
  },
  {
   "cell_type": "code",
   "execution_count": 10,
   "metadata": {
    "scrolled": true
   },
   "outputs": [
    {
     "name": "stdout",
     "output_type": "stream",
     "text": [
      "gimme.vertebrate.v5.0m/gimme.vertebrate.v5.0.pfm\n"
     ]
    },
    {
     "data": {
      "text/plain": [
       "[GM.5.0.Sox.0001_AACAAT,\n",
       " GM.5.0.Homeodomain.0001_AGCTGTCAnnA,\n",
       " GM.5.0.Mixed.0001_snnGGsssGGs,\n",
       " GM.5.0.Nuclear_receptor.0001_TAwsTrGGTCAsTrGGTCA,\n",
       " GM.5.0.Mixed.0002_GCTAATTA,\n",
       " GM.5.0.Nuclear_receptor.0002_wnyrCTTCCGGGkC,\n",
       " GM.5.0.bHLH.0001_ACGTG,\n",
       " GM.5.0.Myb_SANT.0001_rrCCGTTAAACnGyy,\n",
       " GM.5.0.C2H2_ZF.0001_GCGkGGGCGG,\n",
       " GM.5.0.GATA.0001_TTATCTsnnnnnnnCA]"
      ]
     },
     "execution_count": 10,
     "metadata": {},
     "output_type": "execute_result"
    }
   ],
   "source": [
    "from gimmemotifs.motif import read_motifs\n",
    "# Read modified gimme.vertebrate.v5.0 with added Bcl11b motif\n",
    "path = 'gimme.vertebrate.v5.0m/gimme.vertebrate.v5.0.pfm'\n",
    "print(path)\n",
    "motifs = read_motifs(path)\n",
    "motifs[0:10]"
   ]
  },
  {
   "cell_type": "markdown",
   "metadata": {},
   "source": [
    "# 3. Instantiate TFinfo object and search for TF binding motifs\n",
    "The motif analysis module has a custom class; TFinfo. The TFinfo object converts a peak data into a DNA sequences and scans the DNA sequences searching for TF binding motifs. Then, the results of motif scan will be filtered and converted into either a python dictionary or a depending on your preference. This TF information is necessary for GRN inference."
   ]
  },
  {
   "cell_type": "markdown",
   "metadata": {},
   "source": [
    "## 3.1. Instantiate TFinfo object"
   ]
  },
  {
   "cell_type": "code",
   "execution_count": 11,
   "metadata": {},
   "outputs": [],
   "source": [
    "# Instantiate TFinfo object\n",
    "tfi = ma.TFinfo(peak_data_frame=peaks, # peak info calculated from ATAC-seq data\n",
    "                       ref_genome=ref_genome) "
   ]
  },
  {
   "cell_type": "markdown",
   "metadata": {},
   "source": [
    "## 3.2. Motif scan\n",
    "\n",
    "\n",
    "!!You can set TF binding motif information as an argument: \n",
    "\n",
    "tfi.scan(motifs=motifs)\n",
    "\n",
    "If you don't set motifs or set None, default motifs will be loaded automatically.\n",
    "\n",
    "- For mouse and human, \"gimme.vertebrate.v5.0.\" will be used as a default motifs. \n",
    "- For another species, a species specific TF binding motif data extracted from CisBP ver2.0 will be used.\n",
    "\n"
   ]
  },
  {
   "cell_type": "code",
   "execution_count": 12,
   "metadata": {
    "scrolled": false
   },
   "outputs": [
    {
     "name": "stdout",
     "output_type": "stream",
     "text": [
      "No motif data entered. Loading default motifs for your species ...\n",
      " Default motif for vertebrate: gimme.vertebrate.v5.0. \n",
      " For more information, please go https://gimmemotifs.readthedocs.io/en/master/overview.html \n",
      "\n",
      "Initiating scanner... \n",
      "\n",
      "Calculating FPR-based threshold. This step may take substantial time when you load a new ref-genome. It will be done quicker on the second time. \n",
      "\n",
      "Convert peak info into DNA sequences ... \n",
      "\n",
      "Scanning motifs ... It may take several hours if you proccess many peaks. \n",
      "\n"
     ]
    },
    {
     "data": {
      "application/vnd.jupyter.widget-view+json": {
       "model_id": "1a09edd99c66481c9699808040e4b79c",
       "version_major": 2,
       "version_minor": 0
      },
      "text/plain": [
       "HBox(children=(HTML(value=''), FloatProgress(value=1.0, bar_style='info', layout=Layout(width='20px'), max=1.0…"
      ]
     },
     "metadata": {},
     "output_type": "display_data"
    },
    {
     "name": "stdout",
     "output_type": "stream",
     "text": [
      "\n",
      "CPU times: user 1h 37min 16s, sys: 2min 8s, total: 1h 39min 24s\n",
      "Wall time: 1h 39min 57s\n"
     ]
    }
   ],
   "source": [
    "%%time\n",
    "# Scan motifs. !!CAUTION!! This step may take several hours if you have many peaks!\n",
    "tfi.scan(fpr=0.02, \n",
    "            motifs=None,  # If you enter None, default motifs will be loaded.\n",
    "            verbose=True)\n",
    "\n",
    "# Save tfinfo object\n",
    "tfi.to_hdf5(file_path=\"cCRE.celloracle.tfinfo\")"
   ]
  },
  {
   "cell_type": "code",
   "execution_count": 13,
   "metadata": {
    "scrolled": true
   },
   "outputs": [
    {
     "data": {
      "text/html": [
       "<div>\n",
       "<style scoped>\n",
       "    .dataframe tbody tr th:only-of-type {\n",
       "        vertical-align: middle;\n",
       "    }\n",
       "\n",
       "    .dataframe tbody tr th {\n",
       "        vertical-align: top;\n",
       "    }\n",
       "\n",
       "    .dataframe thead th {\n",
       "        text-align: right;\n",
       "    }\n",
       "</style>\n",
       "<table border=\"1\" class=\"dataframe\">\n",
       "  <thead>\n",
       "    <tr style=\"text-align: right;\">\n",
       "      <th></th>\n",
       "      <th>seqname</th>\n",
       "      <th>motif_id</th>\n",
       "      <th>factors_direct</th>\n",
       "      <th>factors_indirect</th>\n",
       "      <th>score</th>\n",
       "      <th>pos</th>\n",
       "      <th>strand</th>\n",
       "    </tr>\n",
       "  </thead>\n",
       "  <tbody>\n",
       "    <tr>\n",
       "      <th>0</th>\n",
       "      <td>chr10_100004434_100004934</td>\n",
       "      <td>GM.5.0.Sox.0002</td>\n",
       "      <td>SOX9, SRY, Sry</td>\n",
       "      <td>Sox9</td>\n",
       "      <td>8.502153</td>\n",
       "      <td>465</td>\n",
       "      <td>1</td>\n",
       "    </tr>\n",
       "    <tr>\n",
       "      <th>1</th>\n",
       "      <td>chr10_100004434_100004934</td>\n",
       "      <td>GM.5.0.bZIP.0004</td>\n",
       "      <td>CEBPG, Chop, Ddit3, Cebpg, Atf4, ATF4</td>\n",
       "      <td>Atf5, MYC, ATF3, Atf4, ATF4</td>\n",
       "      <td>8.044841</td>\n",
       "      <td>459</td>\n",
       "      <td>-1</td>\n",
       "    </tr>\n",
       "    <tr>\n",
       "      <th>2</th>\n",
       "      <td>chr10_100004434_100004934</td>\n",
       "      <td>GM.5.0.GATA.0002</td>\n",
       "      <td>GATA2, GATA3</td>\n",
       "      <td>Gata2</td>\n",
       "      <td>8.484434</td>\n",
       "      <td>378</td>\n",
       "      <td>1</td>\n",
       "    </tr>\n",
       "    <tr>\n",
       "      <th>3</th>\n",
       "      <td>chr10_100004434_100004934</td>\n",
       "      <td>GM.5.0.Ets.0004</td>\n",
       "      <td></td>\n",
       "      <td>ZBTB7A, ELF1, GABPA, ELK4</td>\n",
       "      <td>3.959890</td>\n",
       "      <td>266</td>\n",
       "      <td>-1</td>\n",
       "    </tr>\n",
       "    <tr>\n",
       "      <th>4</th>\n",
       "      <td>chr10_100004434_100004934</td>\n",
       "      <td>GM.5.0.E2F.0001</td>\n",
       "      <td>E2F4, E2F2, E2F3, E2F1</td>\n",
       "      <td>E2f1, E2F4, E2f5, E2F1, E2f4, E2F2, E2F3</td>\n",
       "      <td>5.097280</td>\n",
       "      <td>108</td>\n",
       "      <td>1</td>\n",
       "    </tr>\n",
       "  </tbody>\n",
       "</table>\n",
       "</div>"
      ],
      "text/plain": [
       "                     seqname          motif_id  \\\n",
       "0  chr10_100004434_100004934   GM.5.0.Sox.0002   \n",
       "1  chr10_100004434_100004934  GM.5.0.bZIP.0004   \n",
       "2  chr10_100004434_100004934  GM.5.0.GATA.0002   \n",
       "3  chr10_100004434_100004934   GM.5.0.Ets.0004   \n",
       "4  chr10_100004434_100004934   GM.5.0.E2F.0001   \n",
       "\n",
       "                          factors_direct  \\\n",
       "0                         SOX9, SRY, Sry   \n",
       "1  CEBPG, Chop, Ddit3, Cebpg, Atf4, ATF4   \n",
       "2                           GATA2, GATA3   \n",
       "3                                          \n",
       "4                 E2F4, E2F2, E2F3, E2F1   \n",
       "\n",
       "                           factors_indirect     score  pos  strand  \n",
       "0                                      Sox9  8.502153  465       1  \n",
       "1               Atf5, MYC, ATF3, Atf4, ATF4  8.044841  459      -1  \n",
       "2                                     Gata2  8.484434  378       1  \n",
       "3                 ZBTB7A, ELF1, GABPA, ELK4  3.959890  266      -1  \n",
       "4  E2f1, E2F4, E2f5, E2F1, E2f4, E2F2, E2F3  5.097280  108       1  "
      ]
     },
     "execution_count": 13,
     "metadata": {},
     "output_type": "execute_result"
    }
   ],
   "source": [
    "# Check motif scan results\n",
    "tfi.scanned_df.head()"
   ]
  },
  {
   "cell_type": "code",
   "execution_count": 14,
   "metadata": {},
   "outputs": [
    {
     "data": {
      "text/plain": [
       "17026486"
      ]
     },
     "execution_count": 14,
     "metadata": {},
     "output_type": "execute_result"
    }
   ],
   "source": [
    "df=tfi.scanned_df\n",
    "len(df)"
   ]
  },
  {
   "cell_type": "code",
   "execution_count": 17,
   "metadata": {},
   "outputs": [],
   "source": [
    "folder='TFinfo_outputs'"
   ]
  },
  {
   "cell_type": "code",
   "execution_count": 18,
   "metadata": {},
   "outputs": [],
   "source": [
    "# save the entire scanned results\n",
    "df.to_parquet(os.path.join(folder,\"tfi_scanned.parquet\"))"
   ]
  },
  {
   "cell_type": "markdown",
   "metadata": {},
   "source": [
    "# 4. Filtering motifs\n",
    "Out of 17026486, 3118211 passed the filtering (18.31%)"
   ]
  },
  {
   "cell_type": "code",
   "execution_count": 19,
   "metadata": {},
   "outputs": [
    {
     "name": "stdout",
     "output_type": "stream",
     "text": [
      "Filtering finished: 17026486 -> 3118211\n",
      "1. Converting scanned results into one-hot encoded dataframe.\n"
     ]
    },
    {
     "data": {
      "application/vnd.jupyter.widget-view+json": {
       "model_id": "88ec8ba4af20412dacf4f18a21167b17",
       "version_major": 2,
       "version_minor": 0
      },
      "text/plain": [
       "HBox(children=(HTML(value=''), FloatProgress(value=0.0, max=106019.0), HTML(value='')))"
      ]
     },
     "metadata": {},
     "output_type": "display_data"
    },
    {
     "name": "stdout",
     "output_type": "stream",
     "text": [
      "\n",
      "2. Converting results into dictionaries.\n"
     ]
    },
    {
     "data": {
      "application/vnd.jupyter.widget-view+json": {
       "model_id": "31609c50dc3d4999824bb3a5b69a6886",
       "version_major": 2,
       "version_minor": 0
      },
      "text/plain": [
       "HBox(children=(HTML(value=''), FloatProgress(value=0.0, max=13693.0), HTML(value='')))"
      ]
     },
     "metadata": {},
     "output_type": "display_data"
    },
    {
     "name": "stdout",
     "output_type": "stream",
     "text": [
      "\n"
     ]
    },
    {
     "data": {
      "application/vnd.jupyter.widget-view+json": {
       "model_id": "a052a7e5305d4ddf91b8c304906a4b29",
       "version_major": 2,
       "version_minor": 0
      },
      "text/plain": [
       "HBox(children=(HTML(value=''), FloatProgress(value=0.0, max=1090.0), HTML(value='')))"
      ]
     },
     "metadata": {},
     "output_type": "display_data"
    },
    {
     "name": "stdout",
     "output_type": "stream",
     "text": [
      "\n"
     ]
    }
   ],
   "source": [
    "# Reset filtering \n",
    "tfi.reset_filtering()\n",
    "\n",
    "# Do filtering\n",
    "tfi.filter_motifs_by_score(threshold=10.5)\n",
    "\n",
    "# Do post filtering process. Convert results into several file format.\n",
    "tfi.make_TFinfo_dataframe_and_dictionary(verbose=True)"
   ]
  },
  {
   "cell_type": "markdown",
   "metadata": {},
   "source": [
    "We have the score for each sequence and motif_id pair.\n",
    "In the next step we will filter the motifs with low score."
   ]
  },
  {
   "cell_type": "markdown",
   "metadata": {},
   "source": [
    "# 5. Get Final results"
   ]
  },
  {
   "cell_type": "markdown",
   "metadata": {},
   "source": [
    "## 5.1. Get resutls as a dictionary"
   ]
  },
  {
   "cell_type": "code",
   "execution_count": 20,
   "metadata": {
    "scrolled": false
   },
   "outputs": [],
   "source": [
    "td = tfi.to_dictionary(dictionary_type=\"targetgene2TFs\")\n"
   ]
  },
  {
   "cell_type": "markdown",
   "metadata": {},
   "source": [
    "## 5.2. Get results as a dataframe"
   ]
  },
  {
   "cell_type": "code",
   "execution_count": 21,
   "metadata": {
    "scrolled": true
   },
   "outputs": [
    {
     "data": {
      "text/html": [
       "<div>\n",
       "<style scoped>\n",
       "    .dataframe tbody tr th:only-of-type {\n",
       "        vertical-align: middle;\n",
       "    }\n",
       "\n",
       "    .dataframe tbody tr th {\n",
       "        vertical-align: top;\n",
       "    }\n",
       "\n",
       "    .dataframe thead th {\n",
       "        text-align: right;\n",
       "    }\n",
       "</style>\n",
       "<table border=\"1\" class=\"dataframe\">\n",
       "  <thead>\n",
       "    <tr style=\"text-align: right;\">\n",
       "      <th></th>\n",
       "      <th>peak_id</th>\n",
       "      <th>gene_short_name</th>\n",
       "      <th>9430076c15rik</th>\n",
       "      <th>Ac002126.6</th>\n",
       "      <th>Ac012531.1</th>\n",
       "      <th>Ac226150.2</th>\n",
       "      <th>Afp</th>\n",
       "      <th>Ahr</th>\n",
       "      <th>Ahrr</th>\n",
       "      <th>Aire</th>\n",
       "      <th>...</th>\n",
       "      <th>Znf784</th>\n",
       "      <th>Znf8</th>\n",
       "      <th>Znf816</th>\n",
       "      <th>Znf85</th>\n",
       "      <th>Zscan10</th>\n",
       "      <th>Zscan16</th>\n",
       "      <th>Zscan22</th>\n",
       "      <th>Zscan26</th>\n",
       "      <th>Zscan31</th>\n",
       "      <th>Zscan4</th>\n",
       "    </tr>\n",
       "  </thead>\n",
       "  <tbody>\n",
       "    <tr>\n",
       "      <th>0</th>\n",
       "      <td>chr10_100004434_100004934</td>\n",
       "      <td>Kitl</td>\n",
       "      <td>0.0</td>\n",
       "      <td>0.0</td>\n",
       "      <td>0.0</td>\n",
       "      <td>0.0</td>\n",
       "      <td>0.0</td>\n",
       "      <td>0.0</td>\n",
       "      <td>0.0</td>\n",
       "      <td>0.0</td>\n",
       "      <td>...</td>\n",
       "      <td>0.0</td>\n",
       "      <td>0.0</td>\n",
       "      <td>0.0</td>\n",
       "      <td>0.0</td>\n",
       "      <td>0.0</td>\n",
       "      <td>0.0</td>\n",
       "      <td>0.0</td>\n",
       "      <td>0.0</td>\n",
       "      <td>0.0</td>\n",
       "      <td>0.0</td>\n",
       "    </tr>\n",
       "    <tr>\n",
       "      <th>1</th>\n",
       "      <td>chr10_100015536_100016036</td>\n",
       "      <td>Cep290</td>\n",
       "      <td>0.0</td>\n",
       "      <td>0.0</td>\n",
       "      <td>0.0</td>\n",
       "      <td>0.0</td>\n",
       "      <td>0.0</td>\n",
       "      <td>0.0</td>\n",
       "      <td>0.0</td>\n",
       "      <td>0.0</td>\n",
       "      <td>...</td>\n",
       "      <td>0.0</td>\n",
       "      <td>0.0</td>\n",
       "      <td>0.0</td>\n",
       "      <td>0.0</td>\n",
       "      <td>0.0</td>\n",
       "      <td>0.0</td>\n",
       "      <td>0.0</td>\n",
       "      <td>0.0</td>\n",
       "      <td>1.0</td>\n",
       "      <td>0.0</td>\n",
       "    </tr>\n",
       "    <tr>\n",
       "      <th>2</th>\n",
       "      <td>chr10_100015536_100016036</td>\n",
       "      <td>Kitl</td>\n",
       "      <td>0.0</td>\n",
       "      <td>0.0</td>\n",
       "      <td>0.0</td>\n",
       "      <td>0.0</td>\n",
       "      <td>0.0</td>\n",
       "      <td>0.0</td>\n",
       "      <td>0.0</td>\n",
       "      <td>0.0</td>\n",
       "      <td>...</td>\n",
       "      <td>0.0</td>\n",
       "      <td>0.0</td>\n",
       "      <td>0.0</td>\n",
       "      <td>0.0</td>\n",
       "      <td>0.0</td>\n",
       "      <td>0.0</td>\n",
       "      <td>0.0</td>\n",
       "      <td>0.0</td>\n",
       "      <td>1.0</td>\n",
       "      <td>0.0</td>\n",
       "    </tr>\n",
       "    <tr>\n",
       "      <th>3</th>\n",
       "      <td>chr10_100015536_100016036</td>\n",
       "      <td>Tmtc3</td>\n",
       "      <td>0.0</td>\n",
       "      <td>0.0</td>\n",
       "      <td>0.0</td>\n",
       "      <td>0.0</td>\n",
       "      <td>0.0</td>\n",
       "      <td>0.0</td>\n",
       "      <td>0.0</td>\n",
       "      <td>0.0</td>\n",
       "      <td>...</td>\n",
       "      <td>0.0</td>\n",
       "      <td>0.0</td>\n",
       "      <td>0.0</td>\n",
       "      <td>0.0</td>\n",
       "      <td>0.0</td>\n",
       "      <td>0.0</td>\n",
       "      <td>0.0</td>\n",
       "      <td>0.0</td>\n",
       "      <td>1.0</td>\n",
       "      <td>0.0</td>\n",
       "    </tr>\n",
       "    <tr>\n",
       "      <th>4</th>\n",
       "      <td>chr10_100016814_100017314</td>\n",
       "      <td>Kitl</td>\n",
       "      <td>0.0</td>\n",
       "      <td>0.0</td>\n",
       "      <td>0.0</td>\n",
       "      <td>0.0</td>\n",
       "      <td>0.0</td>\n",
       "      <td>0.0</td>\n",
       "      <td>0.0</td>\n",
       "      <td>0.0</td>\n",
       "      <td>...</td>\n",
       "      <td>0.0</td>\n",
       "      <td>0.0</td>\n",
       "      <td>0.0</td>\n",
       "      <td>0.0</td>\n",
       "      <td>0.0</td>\n",
       "      <td>0.0</td>\n",
       "      <td>0.0</td>\n",
       "      <td>0.0</td>\n",
       "      <td>0.0</td>\n",
       "      <td>0.0</td>\n",
       "    </tr>\n",
       "  </tbody>\n",
       "</table>\n",
       "<p>5 rows × 1092 columns</p>\n",
       "</div>"
      ],
      "text/plain": [
       "                     peak_id gene_short_name  9430076c15rik  Ac002126.6  \\\n",
       "0  chr10_100004434_100004934            Kitl            0.0         0.0   \n",
       "1  chr10_100015536_100016036          Cep290            0.0         0.0   \n",
       "2  chr10_100015536_100016036            Kitl            0.0         0.0   \n",
       "3  chr10_100015536_100016036           Tmtc3            0.0         0.0   \n",
       "4  chr10_100016814_100017314            Kitl            0.0         0.0   \n",
       "\n",
       "   Ac012531.1  Ac226150.2  Afp  Ahr  Ahrr  Aire  ...  Znf784  Znf8  Znf816  \\\n",
       "0         0.0         0.0  0.0  0.0   0.0   0.0  ...     0.0   0.0     0.0   \n",
       "1         0.0         0.0  0.0  0.0   0.0   0.0  ...     0.0   0.0     0.0   \n",
       "2         0.0         0.0  0.0  0.0   0.0   0.0  ...     0.0   0.0     0.0   \n",
       "3         0.0         0.0  0.0  0.0   0.0   0.0  ...     0.0   0.0     0.0   \n",
       "4         0.0         0.0  0.0  0.0   0.0   0.0  ...     0.0   0.0     0.0   \n",
       "\n",
       "   Znf85  Zscan10  Zscan16  Zscan22  Zscan26  Zscan31  Zscan4  \n",
       "0    0.0      0.0      0.0      0.0      0.0      0.0     0.0  \n",
       "1    0.0      0.0      0.0      0.0      0.0      1.0     0.0  \n",
       "2    0.0      0.0      0.0      0.0      0.0      1.0     0.0  \n",
       "3    0.0      0.0      0.0      0.0      0.0      1.0     0.0  \n",
       "4    0.0      0.0      0.0      0.0      0.0      0.0     0.0  \n",
       "\n",
       "[5 rows x 1092 columns]"
      ]
     },
     "execution_count": 21,
     "metadata": {},
     "output_type": "execute_result"
    }
   ],
   "source": [
    "df = tfi.to_dataframe()\n",
    "df.head()"
   ]
  },
  {
   "cell_type": "markdown",
   "metadata": {},
   "source": [
    "# 6. Save TFinfo as dictionary or dataframe\n",
    "We'll use this information when making the GRNs. Save the results."
   ]
  },
  {
   "cell_type": "code",
   "execution_count": 22,
   "metadata": {},
   "outputs": [],
   "source": [
    "folder = \"TFinfo_outputs\"\n",
    "os.makedirs(folder, exist_ok=True)\n",
    "\n",
    "# save TFinfo as a dictionary\n",
    "td = tfi.to_dictionary(dictionary_type=\"targetgene2TFs\")\n",
    "save_as_pickled_object(td, os.path.join(folder, \"TFinfo_targetgene2TFs.pickled\"))\n",
    "\n",
    "# save TFinfo as a dataframe\n",
    "df = tfi.to_dataframe()\n",
    "df.to_parquet(os.path.join(folder, \"TFinfo_dataframe.parquet\"))"
   ]
  },
  {
   "cell_type": "code",
   "execution_count": null,
   "metadata": {},
   "outputs": [],
   "source": []
  }
 ],
 "metadata": {
  "kernelspec": {
   "display_name": "Python 3",
   "language": "python",
   "name": "python3"
  },
  "language_info": {
   "codemirror_mode": {
    "name": "ipython",
    "version": 3
   },
   "file_extension": ".py",
   "mimetype": "text/x-python",
   "name": "python",
   "nbconvert_exporter": "python",
   "pygments_lexer": "ipython3",
   "version": "3.6.12"
  },
  "varInspector": {
   "cols": {
    "lenName": 16,
    "lenType": 16,
    "lenVar": 40
   },
   "kernels_config": {
    "python": {
     "delete_cmd_postfix": "",
     "delete_cmd_prefix": "del ",
     "library": "var_list.py",
     "varRefreshCmd": "print(var_dic_list())"
    },
    "r": {
     "delete_cmd_postfix": ") ",
     "delete_cmd_prefix": "rm(",
     "library": "var_list.r",
     "varRefreshCmd": "cat(var_dic_list()) "
    }
   },
   "types_to_exclude": [
    "module",
    "function",
    "builtin_function_or_method",
    "instance",
    "_Feature"
   ],
   "window_display": false
  }
 },
 "nbformat": 4,
 "nbformat_minor": 2
}
